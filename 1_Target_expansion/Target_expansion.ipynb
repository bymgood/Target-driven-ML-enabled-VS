{
 "cells": [
  {
   "cell_type": "code",
   "execution_count": 1,
   "metadata": {},
   "outputs": [
    {
     "name": "stdout",
     "output_type": "stream",
     "text": [
      "Module 1: Target expansion\n"
     ]
    }
   ],
   "source": [
    "print('Module 1: Target expansion')"
   ]
  },
  {
   "cell_type": "code",
   "execution_count": 4,
   "metadata": {},
   "outputs": [
    {
     "name": "stderr",
     "output_type": "stream",
     "text": [
      "/Applications/anaconda/envs/python36/lib/python3.6/site-packages/Bio/SubsMat/__init__.py:131: BiopythonDeprecationWarning: Bio.SubsMat has been deprecated, and we intend to remove it in a future release of Biopython. As an alternative, please consider using Bio.Align.substitution_matrices as a replacement, and contact the Biopython developers if you still need the Bio.SubsMat module.\n",
      "  BiopythonDeprecationWarning,\n"
     ]
    }
   ],
   "source": [
    "import argparse\n",
    "import pandas as pd\n",
    "import numpy as np\n",
    "from Bio.Blast import NCBIWWW\n",
    "from Bio.Blast import NCBIXML\n",
    "from Bio import SeqIO\n",
    "from Bio import ExPASy\n",
    "from Bio import Align\n",
    "from Bio import pairwise2\n",
    "from Bio.SubsMat.MatrixInfo import blosum62"
   ]
  },
  {
   "cell_type": "markdown",
   "metadata": {},
   "source": [
    "# Parse input"
   ]
  },
  {
   "cell_type": "code",
   "execution_count": null,
   "metadata": {},
   "outputs": [],
   "source": [
    "parser = argparse.ArgumentParser()\n",
    "parser.add_argument('-i','--input', help = \"Entering the protein Uniprot ID to start\", required=True)\n",
    "parser.add_argument('-f','--file_name', help = \"A name to save out files...\", required=True)\n",
    "parser.add_argument('-p','--percent', help = \"Optional. A percentage identity of selecting similar proteins. e.g. 0.20\", required=False)\n",
    "args = parser.parse_args()"
   ]
  },
  {
   "cell_type": "markdown",
   "metadata": {},
   "source": [
    "# Make functions"
   ]
  },
  {
   "cell_type": "code",
   "execution_count": 52,
   "metadata": {},
   "outputs": [],
   "source": [
    "def get_blast_record(uniprot_id,size):\n",
    "    print('Get targets through blastp search')\n",
    "\n",
    "    print('Connecting NCBI server...')\n",
    "\n",
    "    #Run blast\n",
    "    #fasta_string = open(args.input).read()\n",
    "    result_handle = NCBIWWW.qblast(program=\"blastp\",database= \"nr\",sequence= uniprot_id, ncbi_gi=True, hitlist_size=size, entrez_query=\"txid9606[ORGN]\")\n",
    "    name='raw'+\"_blast\"+\".xml\"\n",
    "    name=str(name)\n",
    "    with open(name, \"w\") as out_handle:\n",
    "        out_handle.write(result_handle.read())\n",
    "    result_handle.close()\n",
    "    result_handle = open(name)\n",
    "\n",
    "    print('Data extracted. Preparing the results...')\n",
    "    \n",
    "    blast_record = NCBIXML.read(result_handle)\n",
    "    return blast_record"
   ]
  },
  {
   "cell_type": "code",
   "execution_count": 9,
   "metadata": {},
   "outputs": [],
   "source": [
    "def get_dirty(blast_record):\n",
    "    print('Blast result prepared')\n",
    "    E_VALUE_THRESH = 0.04\n",
    "    result=[]\n",
    "    length=[]\n",
    "    for alignment in blast_record.alignments:\n",
    "        length.append(alignment.length)\n",
    "    length=int(length[0])\n",
    "    for alignment in blast_record.alignments:\n",
    "         for hsp in alignment.hsps:    \n",
    "            if hsp.expect < E_VALUE_THRESH:\n",
    "                per_ident=float(hsp.identities)/float(length)\n",
    "                one=(alignment.title, per_ident, hsp.bits)\n",
    "                result.append(one)\n",
    "    \n",
    "    result=pd.DataFrame(result, columns=['description','percent identity','bit score'])\n",
    "    #result.to_csv('blast_dirty.csv',index=False)\n",
    "    return result"
   ]
  },
  {
   "cell_type": "code",
   "execution_count": 15,
   "metadata": {},
   "outputs": [],
   "source": [
    "def blast_result(result):\n",
    "    res=np.array(result)\n",
    "    l=0\n",
    "    gi=[]\n",
    "    sc=[]\n",
    "    uni=[]\n",
    "    identity_score=float(0)\n",
    "    for row in res:\n",
    "        gi_one=str(row[0])\n",
    "        sc_one=row[1]\n",
    "        if \">sp|\" in gi_one:\n",
    "            if sc_one > identity_score:\n",
    "                start = gi_one.find('>sp|') + 4\n",
    "                end = start+6\n",
    "                uniprot_id=gi_one[start:end]\n",
    "                gi.append(gi_one)\n",
    "                sc.append(sc_one)\n",
    "                uni.append(uniprot_id)\n",
    "                l=l+1\n",
    "                \n",
    "    gi=pd.DataFrame(gi, columns=['description'])\n",
    "    sc=pd.DataFrame(sc, columns=['percent score'])\n",
    "    uni=pd.DataFrame(uni, columns=['uniprot id'])\n",
    "    \n",
    "    df=pd.concat([gi, sc, uni], axis=1)\n",
    "    df=df.sort_values(by=['percent score'], ascending = False)\n",
    "    df=pd.DataFrame(np.array(df))\n",
    "    df.columns=['description','percent score', 'uniprot id']\n",
    "    df=df.assign(**dict.fromkeys(['source'], 'blastp'))\n",
    "    return df"
   ]
  },
  {
   "cell_type": "code",
   "execution_count": 18,
   "metadata": {},
   "outputs": [],
   "source": [
    "def write_blast_result(df,name):\n",
    "    df.to_csv(name+'.csv',index=False)\n",
    "    print('Blast result is written to the disk')\n",
    "    return"
   ]
  },
  {
   "cell_type": "markdown",
   "metadata": {},
   "source": [
    "# Use functions"
   ]
  },
  {
   "cell_type": "code",
   "execution_count": null,
   "metadata": {},
   "outputs": [],
   "source": [
    "blast_record=get_blast_record(args.input,500)\n",
    "result=get_dirty(blast_record)\n",
    "df=blast_result(result)"
   ]
  },
  {
   "cell_type": "code",
   "execution_count": null,
   "metadata": {},
   "outputs": [],
   "source": [
    "if args.percent:\n",
    "    df=df.loc[df['percent score'] >= float(args.percent)]\n",
    "\n",
    "print (str(df.shape[0]) + ' records collected')"
   ]
  },
  {
   "cell_type": "code",
   "execution_count": null,
   "metadata": {},
   "outputs": [],
   "source": [
    "write_blast_result(df,args.file_name)"
   ]
  },
  {
   "cell_type": "code",
   "execution_count": null,
   "metadata": {},
   "outputs": [],
   "source": []
  },
  {
   "cell_type": "code",
   "execution_count": null,
   "metadata": {},
   "outputs": [],
   "source": []
  },
  {
   "cell_type": "markdown",
   "metadata": {},
   "source": [
    "# Example"
   ]
  },
  {
   "cell_type": "code",
   "execution_count": 55,
   "metadata": {},
   "outputs": [
    {
     "name": "stdout",
     "output_type": "stream",
     "text": [
      "Get targets through blastp search\n",
      "Connecting NCBI server...\n",
      "Data extracted. Preparing the results...\n"
     ]
    }
   ],
   "source": [
    "blast_record=get_blast_record('P06493',1000)\n",
    "result=get_dirty(blast_record)\n",
    "df=blast_result(result)"
   ]
  },
  {
   "cell_type": "code",
   "execution_count": 57,
   "metadata": {},
   "outputs": [],
   "source": [
    "write_blast_result(df,'CDK1_blastp_result')"
   ]
  },
  {
   "cell_type": "code",
   "execution_count": 62,
   "metadata": {},
   "outputs": [
    {
     "name": "stdout",
     "output_type": "stream",
     "text": [
      "50 records collected\n"
     ]
    }
   ],
   "source": [
    "print (str(df.shape[0]) + ' records collected')"
   ]
  },
  {
   "cell_type": "code",
   "execution_count": null,
   "metadata": {},
   "outputs": [],
   "source": []
  }
 ],
 "metadata": {
  "kernelspec": {
   "display_name": "Python 3",
   "language": "python",
   "name": "python3"
  },
  "language_info": {
   "codemirror_mode": {
    "name": "ipython",
    "version": 3
   },
   "file_extension": ".py",
   "mimetype": "text/x-python",
   "name": "python",
   "nbconvert_exporter": "python",
   "pygments_lexer": "ipython3",
   "version": "3.6.13"
  }
 },
 "nbformat": 4,
 "nbformat_minor": 2
}
