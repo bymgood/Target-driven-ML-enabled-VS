{
 "cells": [
  {
   "cell_type": "code",
   "execution_count": 1,
   "id": "fb7ba4d1",
   "metadata": {},
   "outputs": [
    {
     "name": "stdout",
     "output_type": "stream",
     "text": [
      "Module 5: Virtual screening\n"
     ]
    }
   ],
   "source": [
    "print('Module 5: Virtual screening')"
   ]
  },
  {
   "cell_type": "code",
   "execution_count": 2,
   "id": "36ecb806",
   "metadata": {},
   "outputs": [],
   "source": [
    "import pandas as pd\n",
    "import pickle\n",
    "import argparse\n",
    "import numpy as np\n",
    "import matplotlib.pyplot as plt\n",
    "\n",
    "from scipy import interp\n",
    "from itertools import cycle\n",
    "from sklearn.naive_bayes import BernoulliNB\n",
    "from sklearn.metrics import roc_curve, auc\n",
    "from sklearn.model_selection import StratifiedKFold\n",
    "from sklearn.model_selection import train_test_split\n",
    "from sklearn.cluster import KMeans"
   ]
  },
  {
   "cell_type": "markdown",
   "id": "856e18eb",
   "metadata": {},
   "source": [
    "# Parse input"
   ]
  },
  {
   "cell_type": "code",
   "execution_count": null,
   "id": "f5284a5f",
   "metadata": {},
   "outputs": [],
   "source": [
    "parser = argparse.ArgumentParser()\n",
    "parser.add_argument('-m','--model', help = 'Load the prepared machine learning model', required=True)\n",
    "parser.add_argument('-t','--model_type', help = 'Specify the algorithm of model to be loaded - choose from Bayes, LGBM, and RF', required=True)\n",
    "parser.add_argument('-s','--screen_set', help='load the compound set to screen', required=True)\n",
    "parser.add_argument('-f','--file_name', help=\"filename to save the result to\", required=True)\n",
    "args = parser.parse_args()"
   ]
  },
  {
   "cell_type": "markdown",
   "id": "2493b50c",
   "metadata": {},
   "source": [
    "# Make functions"
   ]
  },
  {
   "cell_type": "code",
   "execution_count": 5,
   "id": "15bb24c2",
   "metadata": {},
   "outputs": [],
   "source": [
    "def read_model(name):\n",
    "    model = pickle.load(open(name, 'rb'))\n",
    "    print (name + \" loaded\")\n",
    "    return model"
   ]
  },
  {
   "cell_type": "code",
   "execution_count": 24,
   "id": "9954bf16",
   "metadata": {},
   "outputs": [],
   "source": [
    "def read_library(name):\n",
    "    screen_set = pd.read_csv(name, header=0)\n",
    "    print('screen set loaded')\n",
    "    print('screen set includes '+str(screen_set.shape[0])+' compounds')\n",
    "    return screen_set"
   ]
  },
  {
   "cell_type": "code",
   "execution_count": 55,
   "id": "6069a94b",
   "metadata": {},
   "outputs": [],
   "source": [
    "def screening(model, screen_set, name):\n",
    "    print('In progress of screening...')\n",
    "    comp_id = screen_set.iloc[:,0]\n",
    "    smiles = screen_set.iloc[:,1]\n",
    "    fps = screen_set.iloc[:,2:]\n",
    "    test_set_probas_ = model.predict_proba(fps)\n",
    "    fps = []\n",
    "    outcome=pd.DataFrame()\n",
    "    outcome['comp_id'] = comp_id\n",
    "    outcome['smiles'] = smiles\n",
    "    col_name = name + '_prediction_score'\n",
    "    outcome[col_name] = test_set_probas_[:,1]\n",
    "    return outcome"
   ]
  },
  {
   "cell_type": "code",
   "execution_count": null,
   "id": "8b16c37e",
   "metadata": {},
   "outputs": [],
   "source": [
    "def write_out(outcome,name):\n",
    "    file_name=str(name)\n",
    "    outcome.to_csv(file_name+'.csv',index=False)\n",
    "    print (\"Done. The library file with scores is saved to the disk.\")\n",
    "    return"
   ]
  },
  {
   "cell_type": "markdown",
   "id": "5b57154a",
   "metadata": {},
   "source": [
    "# Use functions"
   ]
  },
  {
   "cell_type": "code",
   "execution_count": null,
   "id": "e7125345",
   "metadata": {},
   "outputs": [],
   "source": [
    "model = read_model(args.model)\n",
    "screen_set=read_library(args.screen_set)\n",
    "outcome = screening(model, screen_set, args.model_type)"
   ]
  },
  {
   "cell_type": "code",
   "execution_count": null,
   "id": "90364b4a",
   "metadata": {},
   "outputs": [],
   "source": [
    "write_out(outcome,args.file_name)"
   ]
  }
 ],
 "metadata": {
  "kernelspec": {
   "display_name": "Python 3",
   "language": "python",
   "name": "python3"
  },
  "language_info": {
   "codemirror_mode": {
    "name": "ipython",
    "version": 3
   },
   "file_extension": ".py",
   "mimetype": "text/x-python",
   "name": "python",
   "nbconvert_exporter": "python",
   "pygments_lexer": "ipython3",
   "version": "3.6.13"
  }
 },
 "nbformat": 4,
 "nbformat_minor": 5
}
