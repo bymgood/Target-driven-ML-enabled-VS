{
 "cells": [
  {
   "cell_type": "code",
   "execution_count": 1,
   "id": "e91b01dd",
   "metadata": {},
   "outputs": [
    {
     "name": "stdout",
     "output_type": "stream",
     "text": [
      "Module 4: ML prediction model training\n"
     ]
    }
   ],
   "source": [
    "print('Module 4: ML prediction model training')"
   ]
  },
  {
   "cell_type": "code",
   "execution_count": 2,
   "id": "384ae328",
   "metadata": {},
   "outputs": [],
   "source": [
    "import pandas as pd\n",
    "import numpy as np\n",
    "import argparse\n",
    "import pickle\n",
    "import matplotlib.pyplot as plt\n",
    "\n",
    "from scipy import interp\n",
    "from sklearn.naive_bayes import BernoulliNB\n",
    "from sklearn.metrics import roc_curve, auc\n",
    "from sklearn.model_selection import StratifiedKFold, KFold\n",
    "from sklearn.model_selection import train_test_split, GridSearchCV\n",
    "from sklearn.ensemble import RandomForestClassifier\n",
    "from sklearn.neural_network import MLPClassifier\n",
    "\n",
    "from imblearn.under_sampling import RandomUnderSampler\n",
    "from imblearn.pipeline import make_pipeline\n",
    "from statistics import mean, stdev\n",
    "from collections import Counter\n",
    "from imblearn.metrics import classification_report_imbalanced"
   ]
  },
  {
   "cell_type": "markdown",
   "id": "4a1f7dea",
   "metadata": {},
   "source": [
    "# Parse input"
   ]
  },
  {
   "cell_type": "code",
   "execution_count": null,
   "id": "daa890e4",
   "metadata": {},
   "outputs": [],
   "source": [
    "parser = argparse.ArgumentParser()\n",
    "parser.add_argument('-a','--active', help = \"Fingerprints of active compounds\", required=True)\n",
    "parser.add_argument('-i','--inactive', help = \"Fingerprints of inactive compounds\", required=True)\n",
    "parser.add_argument('-m','--model', help = \"Optional. Select from RF and MLP. Will report both if not specified\", required=False)\n",
    "parser.add_argument('-f','--file_name', help = \"A name to save out files...\", required=True)\n",
    "args = parser.parse_args()"
   ]
  },
  {
   "cell_type": "markdown",
   "id": "f0effaef",
   "metadata": {},
   "source": [
    "# Make functions"
   ]
  },
  {
   "cell_type": "code",
   "execution_count": 3,
   "id": "7edb8dc9",
   "metadata": {},
   "outputs": [],
   "source": [
    "def read_cmpds_fp(name):\n",
    "    print(\"Read training set fingerprint files\")\n",
    "    df=pd.read_csv(name)\n",
    "    return df"
   ]
  },
  {
   "cell_type": "code",
   "execution_count": 4,
   "id": "cc1b5eb4",
   "metadata": {},
   "outputs": [],
   "source": [
    "def combine_sets(actives,inactives):\n",
    "    frames=[actives, inactives]\n",
    "    Combine = pd.concat(frames, ignore_index=True)\n",
    "    Combine = np.array(Combine)\n",
    "    return Combine"
   ]
  },
  {
   "cell_type": "code",
   "execution_count": 5,
   "id": "a4ead868",
   "metadata": {},
   "outputs": [],
   "source": [
    "def train_test(combined_data):\n",
    "    train_set, test_set = train_test_split(combined_data, test_size=0.2, random_state=17)\n",
    "\n",
    "    X = np.array(train_set[:, 1:-1])\n",
    "    y = np.array(train_set[:, -1])\n",
    "    y = np.reshape(y, len(y))\n",
    "    y = y.astype('int')\n",
    "\n",
    "    X_test = np.array(test_set[:, 1:-1])\n",
    "    y_test = np.array(test_set[:, -1])\n",
    "    y_test = np.reshape(y_test, len(y_test))\n",
    "    y_test = y_test.astype('int')\n",
    "    \n",
    "    print('Number of samples in each class for training %s' % Counter(y))\n",
    "    print('Number of samples in each class for testing %s' % Counter(y_test))\n",
    "    \n",
    "    return X, y, X_test, y_test"
   ]
  },
  {
   "cell_type": "markdown",
   "id": "53a4cc16",
   "metadata": {},
   "source": [
    "# RF"
   ]
  },
  {
   "cell_type": "code",
   "execution_count": 6,
   "id": "9a960460",
   "metadata": {},
   "outputs": [],
   "source": [
    "def rf_grid_search(X,y):\n",
    "    print('Grid search to determine RF hyperparameters')\n",
    "    rus = RandomUnderSampler(random_state=17, sampling_strategy = 1)\n",
    "    rfc = RandomForestClassifier(random_state=17, n_estimators=100)\n",
    "    pipeline = make_pipeline(rus, rfc)\n",
    "    \n",
    "    kf = StratifiedKFold(n_splits=10)\n",
    "    params = {\n",
    "    'n_estimators': [50, 100, 200],\n",
    "    'max_depth': [4, 6, 10, 12],\n",
    "    'random_state': [17]\n",
    "    }\n",
    "    \n",
    "    new_params = {'randomforestclassifier__' + key: params[key] for key in params}\n",
    "    rf_grid_imba = GridSearchCV(pipeline, new_params, cv=kf, scoring='accuracy',\n",
    "                        return_train_score=True)\n",
    "    \n",
    "    rf_grid_imba.fit(X, y)\n",
    "    print(\"Best paramater grid for RF:\")\n",
    "    print(rf_grid_imba.best_params_)\n",
    "        \n",
    "    return rf_grid_imba"
   ]
  },
  {
   "cell_type": "code",
   "execution_count": 7,
   "id": "0bcbc215",
   "metadata": {},
   "outputs": [],
   "source": [
    "def RF_ROC_plot(rf_grid_imba, X, y, X_test, y_test):\n",
    "    kf = StratifiedKFold(n_splits=10)\n",
    "    rus = RandomUnderSampler(random_state=17, sampling_strategy = 1)\n",
    "    rfc = RandomForestClassifier(random_state=17, n_estimators=100)\n",
    "    tprs = []\n",
    "    aucs = []\n",
    "    mean_fpr = np.linspace(0, 1, 100)\n",
    "    i = 0\n",
    "    for train_index, test_index in kf.split(X,y):\n",
    "        X_train_1, X_test_1 = X[train_index], X[test_index]\n",
    "        y_train_1, y_test_1 = y[train_index], y[test_index]\n",
    "        print('Number of samples in each class %s' % Counter(y_train_1))\n",
    "        X_res, y_res = rus.fit_resample(X_train_1, y_train_1)\n",
    "        print('Number of samples in each class after balancing %s' % Counter(y_res))\n",
    "        probas_ = rf_grid_imba.best_estimator_.predict_proba(X_test_1)\n",
    "        # Compute ROC curve and area the curve\n",
    "        fpr, tpr, thresholds = roc_curve(y_test_1, probas_[:, 1])\n",
    "        tprs.append(interp(mean_fpr, fpr, tpr))\n",
    "        tprs[-1][0] = 0.0\n",
    "        roc_auc = auc(fpr, tpr)\n",
    "        print(roc_auc)    ###########\n",
    "        aucs.append(roc_auc)\n",
    "        plt.plot(fpr, tpr, lw=1, alpha=0.3, label='Random Forest %d (AUC = %0.3f)' % (i, roc_auc))\n",
    "        i += 1\n",
    "    plt.plot([0, 1], [0, 1], linestyle='--', lw=2, color='r', label='Chance', alpha=.8)\n",
    "    mean_tpr = np.mean(tprs, axis=0)\n",
    "    mean_tpr[-1] = 1.0\n",
    "    mean_auc = auc(mean_fpr, mean_tpr)\n",
    "    std_auc = np.std(aucs)\n",
    "    plt.plot(mean_fpr, mean_tpr, color='b',label=r'Mean ROC (AUC = %0.3f $\\pm$ %0.3f)' % (mean_auc, std_auc), lw=2, alpha=.8)\n",
    "    std_tpr = np.std(tprs, axis=0)\n",
    "    tprs_upper = np.minimum(mean_tpr + std_tpr, 1)\n",
    "    tprs_lower = np.maximum(mean_tpr - std_tpr, 0)\n",
    "    plt.fill_between(mean_fpr, tprs_lower, tprs_upper, color='grey', alpha=.2, label=r'$\\pm$ 1 std. dev.')\n",
    "    plt.xlim([-0.05, 1.05])\n",
    "    plt.ylim([-0.05, 1.05])\n",
    "    plt.xlabel('False Positive Rate')\n",
    "    plt.ylabel('True Positive Rate')\n",
    "    plt.title('ROC_RandomForest')\n",
    "    plt.legend(loc=\"lower right\")\n",
    "    plt.savefig('ROC_RandomForest.png', dpi = 300) \n",
    "    plt.clf()\n",
    "    print(classification_report_imbalanced(y_test, rf_grid_imba.predict(X_test)))"
   ]
  },
  {
   "cell_type": "code",
   "execution_count": 8,
   "id": "1db822e5",
   "metadata": {},
   "outputs": [],
   "source": [
    "def save_out_rf(rf_grid_imba,name, X, X_test, y, y_test):\n",
    "    snip_len = len('randomforestclassifier__')\n",
    "    best_params = {key[snip_len:] : rf_grid_imba.best_params_[key] for key in rf_grid_imba.best_params_}\n",
    "\n",
    "    X_all = np.concatenate((X, X_test), axis=0)\n",
    "    y_all = np.concatenate((y, y_test), axis=0)\n",
    "    rfc = RandomForestClassifier(**best_params).fit(X_all, y_all)\n",
    "    #print(classification_report_imbalanced(y_test, rfc.predict(X_test)))\n",
    "    pickle.dump(rfc, open(name + '_random_forest.sav', 'wb'))\n",
    "    print(\"save out random forest model\")"
   ]
  },
  {
   "cell_type": "markdown",
   "id": "fb012e85",
   "metadata": {},
   "source": [
    "# MLP"
   ]
  },
  {
   "cell_type": "code",
   "execution_count": 9,
   "id": "062141ad",
   "metadata": {},
   "outputs": [],
   "source": [
    "def mlp_grid_search(X,y):\n",
    "    print('Grid search to determine MLP hyperparameters')\n",
    "    rus = RandomUnderSampler(random_state=17, sampling_strategy = 1)\n",
    "    mlp = MLPClassifier(random_state=17)\n",
    "    pipeline = make_pipeline(rus, mlp)\n",
    "    kf = StratifiedKFold(n_splits=10)\n",
    "    \n",
    "    params = {\n",
    "    'hidden_layer_sizes': [(50,50,50), (50,50), (50)],\n",
    "    'activation': ['tanh', 'relu'],\n",
    "    #'solver': ['sgd', 'adam'],\n",
    "    'alpha': [0.0001, 0.01],\n",
    "    #'learning_rate': ['constant','adaptive'],\n",
    "    }\n",
    "    \n",
    "    new_params = {'mlpclassifier__' + key: params[key] for key in params}\n",
    "    mlp_grid_imba = GridSearchCV(pipeline, param_grid=new_params, cv=kf, scoring='accuracy',refit=True,\n",
    "                        return_train_score=True)\n",
    "    \n",
    "    mlp_grid_imba.fit(X, y)\n",
    "    print(\"Best paramater grid for MLP:\")\n",
    "    print(mlp_grid_imba.best_params_)\n",
    "        \n",
    "    return mlp_grid_imba"
   ]
  },
  {
   "cell_type": "code",
   "execution_count": 10,
   "id": "0f703ef6",
   "metadata": {},
   "outputs": [],
   "source": [
    "def MLP_ROC_plot(mlp_grid_imba, X, y, X_test, y_test):\n",
    "    kf = StratifiedKFold(n_splits=10)\n",
    "    rus = RandomUnderSampler(random_state=17, sampling_strategy = 1)\n",
    "    mlp = MLPClassifier(random_state=17)\n",
    "    tprs = []\n",
    "    aucs = []\n",
    "    mean_fpr = np.linspace(0, 1, 100)\n",
    "    i = 0\n",
    "    for train_index, test_index in kf.split(X,y):\n",
    "        X_train_1, X_test_1 = X[train_index], X[test_index]\n",
    "        y_train_1, y_test_1 = y[train_index], y[test_index]\n",
    "        print('Number of samples in each class %s' % Counter(y_train_1))\n",
    "        X_res, y_res = rus.fit_resample(X_train_1, y_train_1)\n",
    "        print('Number of samples in each class after balancing %s' % Counter(y_res))\n",
    "        probas_ = mlp_grid_imba.best_estimator_.predict_proba(X_test_1)\n",
    "        # Compute ROC curve and area the curve\n",
    "        fpr, tpr, thresholds = roc_curve(y_test_1, probas_[:, 1])\n",
    "        tprs.append(interp(mean_fpr, fpr, tpr))\n",
    "        tprs[-1][0] = 0.0\n",
    "        roc_auc = auc(fpr, tpr)\n",
    "        print(roc_auc)    ###########\n",
    "        aucs.append(roc_auc)\n",
    "        plt.plot(fpr, tpr, lw=1, alpha=0.3, label='Multilayer perceptron %d (AUC = %0.3f)' % (i, roc_auc))\n",
    "        i += 1\n",
    "    plt.plot([0, 1], [0, 1], linestyle='--', lw=2, color='r', label='Chance', alpha=.8)\n",
    "    mean_tpr = np.mean(tprs, axis=0)\n",
    "    mean_tpr[-1] = 1.0\n",
    "    mean_auc = auc(mean_fpr, mean_tpr)\n",
    "    std_auc = np.std(aucs)\n",
    "    plt.plot(mean_fpr, mean_tpr, color='b',label=r'Mean ROC (AUC = %0.3f $\\pm$ %0.3f)' % (mean_auc, std_auc), lw=2, alpha=.8)\n",
    "    std_tpr = np.std(tprs, axis=0)\n",
    "    tprs_upper = np.minimum(mean_tpr + std_tpr, 1)\n",
    "    tprs_lower = np.maximum(mean_tpr - std_tpr, 0)\n",
    "    plt.fill_between(mean_fpr, tprs_lower, tprs_upper, color='grey', alpha=.2, label=r'$\\pm$ 1 std. dev.')\n",
    "    plt.xlim([-0.05, 1.05])\n",
    "    plt.ylim([-0.05, 1.05])\n",
    "    plt.xlabel('False Positive Rate')\n",
    "    plt.ylabel('True Positive Rate')\n",
    "    plt.title('ROC_Multilayer_perceptron')\n",
    "    plt.legend(loc=\"lower right\")\n",
    "    plt.savefig('ROC_Multilayer_perceptron.png', dpi = 300) \n",
    "    plt.clf()\n",
    "    print(classification_report_imbalanced(y_test, mlp_grid_imba.best_estimator_.predict(X_test)))\n",
    "    "
   ]
  },
  {
   "cell_type": "code",
   "execution_count": 11,
   "id": "1ba7216e",
   "metadata": {},
   "outputs": [],
   "source": [
    "def save_out_mlp(mlp_grid_imba, name, X, X_test, y, y_test):\n",
    "    snip_len = len('mlpclassifier__')\n",
    "    best_params = {key[snip_len:] : mlp_grid_imba.best_params_[key] for key in mlp_grid_imba.best_params_}\n",
    "\n",
    "    X_all = np.concatenate((X, X_test), axis=0)\n",
    "    y_all = np.concatenate((y, y_test), axis=0)\n",
    "    mlp = MLPClassifier(**best_params).fit(X_all, y_all)\n",
    "    #print(classification_report_imbalanced(y_test, mlp.predict(X_test)))\n",
    "    pickle.dump(mlp, open(name + '_MLP.sav', 'wb'))\n",
    "    print(\"save out MLP model\")"
   ]
  },
  {
   "cell_type": "markdown",
   "id": "a8538819",
   "metadata": {},
   "source": [
    "# Use functions"
   ]
  },
  {
   "cell_type": "code",
   "execution_count": null,
   "id": "7c34a7e5",
   "metadata": {},
   "outputs": [],
   "source": [
    "actives = read_cmpds_fp(args.active)\n",
    "inactives = read_cmpds_fp(args.inactive)\n",
    "combined_data = combine_sets(actives,inactives)\n",
    "X, y, X_test, y_test = train_test(combined_data)"
   ]
  },
  {
   "cell_type": "code",
   "execution_count": null,
   "id": "c727c579",
   "metadata": {},
   "outputs": [],
   "source": [
    "if args.model == 'RF':\n",
    "    rf_grid_imba = rf_grid_search(X,y)\n",
    "    RF_ROC_plot(rf_grid_imba, X, y, X_test, y_test)\n",
    "    save_out_rf(rf_grid_imba, args.file_name, X, X_test, y, y_test)\n",
    "elif args.model == 'MLP':\n",
    "    mlp_grid_imba = mlp_grid_search(X,y)\n",
    "    MLP_ROC_plot(mlp_grid_imba, X, y, X_test, y_test)\n",
    "    save_out_mlp(mlp_grid_imba, args.file_name, X, X_test, y, y_test)\n",
    "else:\n",
    "    rf_grid_imba = rf_grid_search(X,y)\n",
    "    RF_ROC_plot(rf_grid_imba, X, y, X_test, y_test)\n",
    "    save_out_rf(rf_grid_imba, args.file_name, X, X_test, y, y_test)  \n",
    "    \n",
    "    mlp_grid_imba = mlp_grid_search(X,y)\n",
    "    MLP_ROC_plot(mlp_grid_imba, X, y, X_test, y_test)\n",
    "    save_out_mlp(mlp_grid_imba, args.file_name, X, X_test, y, y_test)    "
   ]
  },
  {
   "cell_type": "markdown",
   "id": "291b6e31",
   "metadata": {},
   "source": [
    "# Example"
   ]
  },
  {
   "cell_type": "code",
   "execution_count": 13,
   "id": "33b1f985",
   "metadata": {},
   "outputs": [
    {
     "name": "stdout",
     "output_type": "stream",
     "text": [
      "Read training set fingerprint files\n",
      "Read training set fingerprint files\n",
      "Number of samples in each class for training Counter({0: 2051, 1: 622})\n",
      "Number of samples in each class for testing Counter({0: 515, 1: 154})\n"
     ]
    }
   ],
   "source": [
    "actives = read_cmpds_fp('actives_CDK1_cmpds_fp.csv')\n",
    "inactives = read_cmpds_fp('inactives_CDK1_cmpds_fp.csv')\n",
    "combined_data = combine_sets(actives,inactives)\n",
    "X, y, X_test, y_test = train_test(combined_data)"
   ]
  },
  {
   "cell_type": "code",
   "execution_count": 15,
   "id": "394e4ba1",
   "metadata": {
    "scrolled": true
   },
   "outputs": [
    {
     "name": "stdout",
     "output_type": "stream",
     "text": [
      "Best paramater grid for RF:\n",
      "{'randomforestclassifier__max_depth': 12, 'randomforestclassifier__n_estimators': 200, 'randomforestclassifier__random_state': 17}\n",
      "Number of samples in each class Counter({0: 1845, 1: 560})\n",
      "Number of samples in each class after balancing Counter({0: 1120, 1: 560})\n",
      "0.9868462261196368\n",
      "Number of samples in each class Counter({0: 1846, 1: 559})\n",
      "Number of samples in each class after balancing Counter({0: 1118, 1: 559})\n",
      "0.9842818428184282\n",
      "Number of samples in each class Counter({0: 1846, 1: 559})\n",
      "Number of samples in each class after balancing Counter({0: 1118, 1: 559})\n"
     ]
    },
    {
     "name": "stderr",
     "output_type": "stream",
     "text": [
      "/Applications/anaconda/envs/python36/lib/python3.6/site-packages/ipykernel_launcher.py:18: DeprecationWarning: scipy.interp is deprecated and will be removed in SciPy 2.0.0, use numpy.interp instead\n",
      "/Applications/anaconda/envs/python36/lib/python3.6/site-packages/ipykernel_launcher.py:18: DeprecationWarning: scipy.interp is deprecated and will be removed in SciPy 2.0.0, use numpy.interp instead\n",
      "/Applications/anaconda/envs/python36/lib/python3.6/site-packages/ipykernel_launcher.py:18: DeprecationWarning: scipy.interp is deprecated and will be removed in SciPy 2.0.0, use numpy.interp instead\n"
     ]
    },
    {
     "name": "stdout",
     "output_type": "stream",
     "text": [
      "0.9611304684475417\n",
      "Number of samples in each class Counter({0: 1846, 1: 560})\n",
      "Number of samples in each class after balancing Counter({0: 1120, 1: 560})\n"
     ]
    },
    {
     "name": "stderr",
     "output_type": "stream",
     "text": [
      "/Applications/anaconda/envs/python36/lib/python3.6/site-packages/ipykernel_launcher.py:18: DeprecationWarning: scipy.interp is deprecated and will be removed in SciPy 2.0.0, use numpy.interp instead\n",
      "/Applications/anaconda/envs/python36/lib/python3.6/site-packages/ipykernel_launcher.py:18: DeprecationWarning: scipy.interp is deprecated and will be removed in SciPy 2.0.0, use numpy.interp instead\n",
      "/Applications/anaconda/envs/python36/lib/python3.6/site-packages/ipykernel_launcher.py:18: DeprecationWarning: scipy.interp is deprecated and will be removed in SciPy 2.0.0, use numpy.interp instead\n"
     ]
    },
    {
     "name": "stdout",
     "output_type": "stream",
     "text": [
      "0.9848151062155783\n",
      "Number of samples in each class Counter({0: 1846, 1: 560})\n",
      "Number of samples in each class after balancing Counter({0: 1120, 1: 560})\n",
      "0.9822974036191975\n",
      "Number of samples in each class Counter({0: 1846, 1: 560})\n",
      "Number of samples in each class after balancing Counter({0: 1120, 1: 560})\n",
      "0.9806451612903226\n",
      "Number of samples in each class Counter({0: 1846, 1: 560})\n",
      "Number of samples in each class after balancing Counter({0: 1120, 1: 560})\n"
     ]
    },
    {
     "name": "stderr",
     "output_type": "stream",
     "text": [
      "/Applications/anaconda/envs/python36/lib/python3.6/site-packages/ipykernel_launcher.py:18: DeprecationWarning: scipy.interp is deprecated and will be removed in SciPy 2.0.0, use numpy.interp instead\n",
      "/Applications/anaconda/envs/python36/lib/python3.6/site-packages/ipykernel_launcher.py:18: DeprecationWarning: scipy.interp is deprecated and will be removed in SciPy 2.0.0, use numpy.interp instead\n",
      "/Applications/anaconda/envs/python36/lib/python3.6/site-packages/ipykernel_launcher.py:18: DeprecationWarning: scipy.interp is deprecated and will be removed in SciPy 2.0.0, use numpy.interp instead\n"
     ]
    },
    {
     "name": "stdout",
     "output_type": "stream",
     "text": [
      "0.9796223446105429\n",
      "Number of samples in each class Counter({0: 1846, 1: 560})\n",
      "Number of samples in each class after balancing Counter({0: 1120, 1: 560})\n",
      "0.9718332022029899\n",
      "Number of samples in each class Counter({0: 1846, 1: 560})\n",
      "Number of samples in each class after balancing Counter({0: 1120, 1: 560})\n",
      "0.984185680566483\n",
      "Number of samples in each class Counter({0: 1846, 1: 560})\n",
      "Number of samples in each class after balancing Counter({0: 1120, 1: 560})\n"
     ]
    },
    {
     "name": "stderr",
     "output_type": "stream",
     "text": [
      "/Applications/anaconda/envs/python36/lib/python3.6/site-packages/ipykernel_launcher.py:18: DeprecationWarning: scipy.interp is deprecated and will be removed in SciPy 2.0.0, use numpy.interp instead\n"
     ]
    },
    {
     "name": "stdout",
     "output_type": "stream",
     "text": [
      "0.9527143981117232\n",
      "                   pre       rec       spe        f1       geo       iba       sup\n",
      "\n",
      "          0       0.89      0.95      0.61      0.92      0.76      0.60       515\n",
      "          1       0.78      0.61      0.95      0.69      0.76      0.56       154\n",
      "\n",
      "avg / total       0.87      0.87      0.69      0.87      0.76      0.59       669\n",
      "\n",
      "                   pre       rec       spe        f1       geo       iba       sup\n",
      "\n",
      "          0       0.90      1.00      0.64      0.95      0.80      0.66       515\n",
      "          1       0.98      0.64      1.00      0.78      0.80      0.62       154\n",
      "\n",
      "avg / total       0.92      0.91      0.72      0.91      0.80      0.65       669\n",
      "\n",
      "save out random forest model\n"
     ]
    },
    {
     "data": {
      "image/png": "[encoded data removed]",
      "text/plain": [
       "<Figure size 432x288 with 1 Axes>"
      ]
     },
     "metadata": {
      "needs_background": "light"
     },
     "output_type": "display_data"
    }
   ],
   "source": [
    "rf_grid_imba = rf_grid_search(X,y)\n",
    "RF_ROC_plot(rf_grid_imba, X, y, X_test, y_test)\n",
    "save_out_rf(rf_grid_imba,'CDK1', X, X_test, y, y_test)"
   ]
  },
  {
   "cell_type": "code",
   "execution_count": 16,
   "id": "4c34e9f8",
   "metadata": {},
   "outputs": [
    {
     "name": "stderr",
     "output_type": "stream",
     "text": [
      "/Applications/anaconda/envs/python36/lib/python3.6/site-packages/sklearn/neural_network/_multilayer_perceptron.py:617: ConvergenceWarning: Stochastic Optimizer: Maximum iterations (200) reached and the optimization hasn't converged yet.\n",
      "  % self.max_iter, ConvergenceWarning)\n",
      "/Applications/anaconda/envs/python36/lib/python3.6/site-packages/sklearn/neural_network/_multilayer_perceptron.py:617: ConvergenceWarning: Stochastic Optimizer: Maximum iterations (200) reached and the optimization hasn't converged yet.\n",
      "  % self.max_iter, ConvergenceWarning)\n",
      "/Applications/anaconda/envs/python36/lib/python3.6/site-packages/sklearn/neural_network/_multilayer_perceptron.py:617: ConvergenceWarning: Stochastic Optimizer: Maximum iterations (200) reached and the optimization hasn't converged yet.\n",
      "  % self.max_iter, ConvergenceWarning)\n",
      "/Applications/anaconda/envs/python36/lib/python3.6/site-packages/sklearn/neural_network/_multilayer_perceptron.py:617: ConvergenceWarning: Stochastic Optimizer: Maximum iterations (200) reached and the optimization hasn't converged yet.\n",
      "  % self.max_iter, ConvergenceWarning)\n",
      "/Applications/anaconda/envs/python36/lib/python3.6/site-packages/sklearn/neural_network/_multilayer_perceptron.py:617: ConvergenceWarning: Stochastic Optimizer: Maximum iterations (200) reached and the optimization hasn't converged yet.\n",
      "  % self.max_iter, ConvergenceWarning)\n",
      "/Applications/anaconda/envs/python36/lib/python3.6/site-packages/sklearn/neural_network/_multilayer_perceptron.py:617: ConvergenceWarning: Stochastic Optimizer: Maximum iterations (200) reached and the optimization hasn't converged yet.\n",
      "  % self.max_iter, ConvergenceWarning)\n",
      "/Applications/anaconda/envs/python36/lib/python3.6/site-packages/sklearn/neural_network/_multilayer_perceptron.py:617: ConvergenceWarning: Stochastic Optimizer: Maximum iterations (200) reached and the optimization hasn't converged yet.\n",
      "  % self.max_iter, ConvergenceWarning)\n",
      "/Applications/anaconda/envs/python36/lib/python3.6/site-packages/sklearn/neural_network/_multilayer_perceptron.py:617: ConvergenceWarning: Stochastic Optimizer: Maximum iterations (200) reached and the optimization hasn't converged yet.\n",
      "  % self.max_iter, ConvergenceWarning)\n"
     ]
    },
    {
     "name": "stdout",
     "output_type": "stream",
     "text": [
      "Best paramater grid for MLP:\n",
      "{'mlpclassifier__activation': 'relu', 'mlpclassifier__alpha': 0.01, 'mlpclassifier__hidden_layer_sizes': (50, 50, 50)}\n",
      "Number of samples in each class Counter({0: 1845, 1: 560})\n",
      "Number of samples in each class after balancing Counter({0: 1120, 1: 560})\n",
      "0.9998434074538052\n",
      "Number of samples in each class Counter({0: 1846, 1: 559})\n",
      "Number of samples in each class after balancing Counter({0: 1118, 1: 559})\n",
      "0.9876887340301974\n",
      "Number of samples in each class Counter({0: 1846, 1: 559})\n",
      "Number of samples in each class after balancing Counter({0: 1118, 1: 559})\n",
      "0.9813395276809911\n",
      "Number of samples in each class Counter({0: 1846, 1: 560})\n"
     ]
    },
    {
     "name": "stderr",
     "output_type": "stream",
     "text": [
      "/Applications/anaconda/envs/python36/lib/python3.6/site-packages/ipykernel_launcher.py:18: DeprecationWarning: scipy.interp is deprecated and will be removed in SciPy 2.0.0, use numpy.interp instead\n",
      "/Applications/anaconda/envs/python36/lib/python3.6/site-packages/ipykernel_launcher.py:18: DeprecationWarning: scipy.interp is deprecated and will be removed in SciPy 2.0.0, use numpy.interp instead\n",
      "/Applications/anaconda/envs/python36/lib/python3.6/site-packages/ipykernel_launcher.py:18: DeprecationWarning: scipy.interp is deprecated and will be removed in SciPy 2.0.0, use numpy.interp instead\n",
      "/Applications/anaconda/envs/python36/lib/python3.6/site-packages/ipykernel_launcher.py:18: DeprecationWarning: scipy.interp is deprecated and will be removed in SciPy 2.0.0, use numpy.interp instead\n"
     ]
    },
    {
     "name": "stdout",
     "output_type": "stream",
     "text": [
      "Number of samples in each class after balancing Counter({0: 1120, 1: 560})\n",
      "0.9890637293469708\n",
      "Number of samples in each class Counter({0: 1846, 1: 560})\n",
      "Number of samples in each class after balancing Counter({0: 1120, 1: 560})\n",
      "0.9879622344610544\n",
      "Number of samples in each class Counter({0: 1846, 1: 560})\n",
      "Number of samples in each class after balancing Counter({0: 1120, 1: 560})\n",
      "0.9903225806451612\n",
      "Number of samples in each class Counter({0: 1846, 1: 560})\n",
      "Number of samples in each class after balancing Counter({0: 1120, 1: 560})\n",
      "0.9809598741148702\n",
      "Number of samples in each class Counter({0: 1846, 1: 560})\n"
     ]
    },
    {
     "name": "stderr",
     "output_type": "stream",
     "text": [
      "/Applications/anaconda/envs/python36/lib/python3.6/site-packages/ipykernel_launcher.py:18: DeprecationWarning: scipy.interp is deprecated and will be removed in SciPy 2.0.0, use numpy.interp instead\n",
      "/Applications/anaconda/envs/python36/lib/python3.6/site-packages/ipykernel_launcher.py:18: DeprecationWarning: scipy.interp is deprecated and will be removed in SciPy 2.0.0, use numpy.interp instead\n",
      "/Applications/anaconda/envs/python36/lib/python3.6/site-packages/ipykernel_launcher.py:18: DeprecationWarning: scipy.interp is deprecated and will be removed in SciPy 2.0.0, use numpy.interp instead\n",
      "/Applications/anaconda/envs/python36/lib/python3.6/site-packages/ipykernel_launcher.py:18: DeprecationWarning: scipy.interp is deprecated and will be removed in SciPy 2.0.0, use numpy.interp instead\n"
     ]
    },
    {
     "name": "stdout",
     "output_type": "stream",
     "text": [
      "Number of samples in each class after balancing Counter({0: 1120, 1: 560})\n",
      "0.9940204563335956\n",
      "Number of samples in each class Counter({0: 1846, 1: 560})\n",
      "Number of samples in each class after balancing Counter({0: 1120, 1: 560})\n",
      "0.9904012588512981\n",
      "Number of samples in each class Counter({0: 1846, 1: 560})\n",
      "Number of samples in each class after balancing Counter({0: 1120, 1: 560})\n",
      "0.9782061369000787\n"
     ]
    },
    {
     "name": "stderr",
     "output_type": "stream",
     "text": [
      "/Applications/anaconda/envs/python36/lib/python3.6/site-packages/ipykernel_launcher.py:18: DeprecationWarning: scipy.interp is deprecated and will be removed in SciPy 2.0.0, use numpy.interp instead\n",
      "/Applications/anaconda/envs/python36/lib/python3.6/site-packages/ipykernel_launcher.py:18: DeprecationWarning: scipy.interp is deprecated and will be removed in SciPy 2.0.0, use numpy.interp instead\n"
     ]
    },
    {
     "name": "stdout",
     "output_type": "stream",
     "text": [
      "                   pre       rec       spe        f1       geo       iba       sup\n",
      "\n",
      "          0       0.92      0.87      0.73      0.89      0.80      0.64       515\n",
      "          1       0.62      0.73      0.87      0.67      0.80      0.63       154\n",
      "\n",
      "avg / total       0.85      0.84      0.76      0.84      0.80      0.64       669\n",
      "\n",
      "                   pre       rec       spe        f1       geo       iba       sup\n",
      "\n",
      "          0       1.00      0.99      0.99      1.00      0.99      0.99       515\n",
      "          1       0.97      0.99      0.99      0.98      0.99      0.99       154\n",
      "\n",
      "avg / total       0.99      0.99      0.99      0.99      0.99      0.99       669\n",
      "\n",
      "save out MLP model\n"
     ]
    },
    {
     "data": {
      "image/png": "[encoded data removed]",
      "text/plain": [
       "<Figure size 432x288 with 1 Axes>"
      ]
     },
     "metadata": {
      "needs_background": "light"
     },
     "output_type": "display_data"
    }
   ],
   "source": [
    "mlp_grid_imba = mlp_grid_search(X,y)\n",
    "MLP_ROC_plot(mlp_grid_imba, X, y, X_test, y_test)\n",
    "save_out_mlp(mlp_grid_imba, 'CDK1', X, X_test, y, y_test)"
   ]
  },
  {
   "cell_type": "code",
   "execution_count": null,
   "id": "bf7573d1",
   "metadata": {},
   "outputs": [],
   "source": []
  }
 ],
 "metadata": {
  "kernelspec": {
   "display_name": "Python 3",
   "language": "python",
   "name": "python3"
  },
  "language_info": {
   "codemirror_mode": {
    "name": "ipython",
    "version": 3
   },
   "file_extension": ".py",
   "mimetype": "text/x-python",
   "name": "python",
   "nbconvert_exporter": "python",
   "pygments_lexer": "ipython3",
   "version": "3.6.13"
  }
 },
 "nbformat": 4,
 "nbformat_minor": 5
}
