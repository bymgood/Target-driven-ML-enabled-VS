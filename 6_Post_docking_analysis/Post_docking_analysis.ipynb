{
 "cells": [
  {
   "cell_type": "code",
   "execution_count": 1,
   "id": "a26557f4",
   "metadata": {},
   "outputs": [
    {
     "name": "stdout",
     "output_type": "stream",
     "text": [
      "Module 6: Post-docking analysis\n"
     ]
    }
   ],
   "source": [
    "print('Module 6: Post-docking analysis')"
   ]
  },
  {
   "cell_type": "code",
   "execution_count": 2,
   "id": "676844cd",
   "metadata": {},
   "outputs": [],
   "source": [
    "import sys\n",
    "import numpy as np\n",
    "import pandas as pd\n",
    "np.set_printoptions(threshold=sys.maxsize)\n",
    "import argparse\n",
    "\n",
    "from sklearn.manifold import TSNE\n",
    "import matplotlib.pyplot as plt\n",
    "import seaborn as sns\n",
    "\n",
    "from rdkit import Chem\n",
    "from rdkit.Chem import Descriptors"
   ]
  },
  {
   "cell_type": "markdown",
   "id": "dcfe622c",
   "metadata": {},
   "source": [
    "# Parse input"
   ]
  },
  {
   "cell_type": "code",
   "execution_count": null,
   "id": "f1b201cc",
   "metadata": {},
   "outputs": [],
   "source": [
    "parser = argparse.ArgumentParser()\n",
    "parser.add_argument('-r','--result', help = 'The outcome file from the step of VS', required=True)\n",
    "parser.add_argument('-a','--train_active', help = 'Active compounds used in training', required=True)\n",
    "parser.add_argument('-i','--train_inactive', help='Inactive compounds used in training', required=True)\n",
    "args = parser.parse_args()"
   ]
  },
  {
   "cell_type": "markdown",
   "id": "b06a8699",
   "metadata": {},
   "source": [
    "# Make functions"
   ]
  },
  {
   "cell_type": "code",
   "execution_count": 3,
   "id": "c25f01df",
   "metadata": {},
   "outputs": [],
   "source": [
    "def read_screen_result(name):\n",
    "    outcome = pd.read_csv(name, header=0)\n",
    "    print('VS outcome is loaded')\n",
    "    print('VS evaluated '+str(outcome.shape[0])+' compounds')\n",
    "    #outcome.columns = ['Catalog ID', 'smiles', 'RF_prediction_score']\n",
    "    #outcome = outcome.drop('smiles', axis=1)\n",
    "    return outcome"
   ]
  },
  {
   "cell_type": "code",
   "execution_count": 4,
   "id": "1588af21",
   "metadata": {},
   "outputs": [],
   "source": [
    "def read_screen_library(name):\n",
    "    outcome = pd.read_csv(name, header=0)\n",
    "    return outcome"
   ]
  },
  {
   "cell_type": "code",
   "execution_count": 5,
   "id": "31fafef3",
   "metadata": {},
   "outputs": [],
   "source": [
    "def read_cmpds_fp(name):\n",
    "    print(\"Read training set fingerprint files\")\n",
    "    df=pd.read_csv(name)\n",
    "    return df"
   ]
  },
  {
   "cell_type": "code",
   "execution_count": 6,
   "id": "cf34a78e",
   "metadata": {},
   "outputs": [],
   "source": [
    "def get_properties(df,column):\n",
    "    print(\"Calcuating properties...\")\n",
    "    MolWt=[]\n",
    "    MolLogP=[]\n",
    "    NumHAcceptors=[]\n",
    "    NumHDonors=[]\n",
    "    NumRotatableBonds=[]\n",
    "    TPSA=[]\n",
    "    QED=[]\n",
    "    for i in df[column]:\n",
    "        m = Chem.MolFromSmiles(i)\n",
    "        MolWt.append(Descriptors.MolWt(m))\n",
    "        MolLogP.append(Descriptors.MolLogP(m))\n",
    "        NumHAcceptors.append(Descriptors.NumHAcceptors(m))\n",
    "        NumHDonors.append(Descriptors.NumHDonors(m))\n",
    "        NumRotatableBonds.append(Descriptors.NumRotatableBonds(m))\n",
    "        TPSA.append(Descriptors.TPSA(m))\n",
    "        QED.append(Chem.QED.qed(m))\n",
    "        #print(i)\n",
    "\n",
    "    df['MolWt']=MolWt\n",
    "    df['MolLogP']=MolLogP\n",
    "    df['NumHAcceptors']=NumHAcceptors\n",
    "    df['NumHDonors']=NumHDonors\n",
    "    df['NumRotatableBonds']=NumRotatableBonds\n",
    "    df['TPSA']=TPSA\n",
    "    df['QED']=QED\n",
    "    return df"
   ]
  },
  {
   "cell_type": "code",
   "execution_count": 7,
   "id": "fb54593f",
   "metadata": {},
   "outputs": [],
   "source": [
    "def property_distribution(result_properties, actives_properties, inactives_properties, prop, name):\n",
    "    print(\"Plotting for \"+prop)\n",
    "    percent_1 = int(len (result_properties) / 100)\n",
    "    sns.histplot(result_properties[prop], kde=True, stat = 'density', color= 'blue', label='full library')\n",
    "    sns.histplot(result_properties.iloc[:percent_1][prop], kde=True, stat = 'density', color = 'red', label='top 1% VS hits')\n",
    "    sns.histplot(actives_properties[prop], kde=True, stat = 'density', color= 'green', label='active training cmpds')\n",
    "    sns.histplot(inactives_properties[prop], kde=True, stat = 'density', color= 'yellow', label='inactive training cmpds')\n",
    "    plt.legend()\n",
    "    plt.savefig(prop+\"_property_distribution_for_\"+name+\".png\", dpi=300)\n",
    "    plt.clf()"
   ]
  },
  {
   "cell_type": "code",
   "execution_count": 44,
   "id": "9b39b911",
   "metadata": {},
   "outputs": [],
   "source": [
    "def VS_score_distribution(result, column, name):\n",
    "    print(\"Plotting for \"+column)\n",
    "    percent_1 = int(len (result) / 100)\n",
    "    sns.histplot(result[column], kde=True, stat = 'probability', color= 'blue', label='full library', bins = 200)\n",
    "    sns.histplot(result.iloc[:percent_1][column], kde=True, stat = 'probability', color = 'red', label='top 1% VS hits', bins =50)\n",
    "    plt.legend()\n",
    "    plt.savefig(column+\"_distribution_\"+name+\".png\", dpi=300)\n",
    "    plt.clf()"
   ]
  },
  {
   "cell_type": "code",
   "execution_count": 9,
   "id": "5528e8d5",
   "metadata": {},
   "outputs": [],
   "source": [
    "def write_out(outcome,name):\n",
    "    file_name=str(name)\n",
    "    outcome.to_csv(file_name+'.csv',index=False)\n",
    "    print (\"Done. Properties calculated and compared. Calculated properties are saved to the disk\")\n",
    "    return"
   ]
  },
  {
   "cell_type": "markdown",
   "id": "b8b9aa0d",
   "metadata": {},
   "source": [
    "# Use functions"
   ]
  },
  {
   "cell_type": "code",
   "execution_count": null,
   "id": "d6e0e69b",
   "metadata": {},
   "outputs": [],
   "source": [
    "result = read_screen_result(args.result)\n",
    "col_name = result.columns[2]\n",
    "result = result.sort_values(by=[col_name],ascending=False)\n",
    "result_properties = get_properties(result, 'smiles')"
   ]
  },
  {
   "cell_type": "code",
   "execution_count": null,
   "id": "fb51ed38",
   "metadata": {},
   "outputs": [],
   "source": [
    "actives = read_cmpds_fp(args.train_active)\n",
    "inactives = read_cmpds_fp(args.train_inactive)\n",
    "actives_properties = get_properties(actives, 'canonical_smiles')\n",
    "inactives_properties = get_properties(inactives, 'canonical_smiles')"
   ]
  },
  {
   "cell_type": "code",
   "execution_count": null,
   "id": "37e95e32",
   "metadata": {},
   "outputs": [],
   "source": [
    "VS_score_distribution(result, col_name, args.result)\n",
    "\n",
    "property_distribution(result_properties, actives_properties, inactives_properties, 'MolWt', args.result)\n",
    "property_distribution(result_properties, actives_properties, inactives_properties, 'MolLogP', args.result)\n",
    "property_distribution(result_properties, actives_properties, inactives_properties, 'NumHAcceptors', args.result)\n",
    "property_distribution(result_properties, actives_properties, inactives_properties, 'NumHDonors', args.result)\n",
    "property_distribution(result_properties, actives_properties, inactives_properties, 'NumRotatableBonds', args.result)\n",
    "property_distribution(result_properties, actives_properties, inactives_properties, 'TPSA', args.result)\n",
    "property_distribution(result_properties, actives_properties, inactives_properties, 'QED', args.result)"
   ]
  },
  {
   "cell_type": "code",
   "execution_count": null,
   "id": "dbe171ce",
   "metadata": {},
   "outputs": [],
   "source": [
    "write_out(result_properties,args.result+'_properties_calculated')"
   ]
  },
  {
   "cell_type": "markdown",
   "id": "77aad9cc",
   "metadata": {},
   "source": [
    "# Exmaple"
   ]
  },
  {
   "cell_type": "code",
   "execution_count": 10,
   "id": "2311aace",
   "metadata": {},
   "outputs": [
    {
     "name": "stdout",
     "output_type": "stream",
     "text": [
      "VS outcome is loaded\n",
      "VS evaluated 50240 compounds\n",
      "Calcuating properties...\n"
     ]
    }
   ],
   "source": [
    "result=read_screen_result('CDK1_50K_VS_MLP.csv').sort_values(by=['MLP_prediction_score'],ascending=False)\n",
    "result_properties = get_properties(result, 'smiles')"
   ]
  },
  {
   "cell_type": "code",
   "execution_count": 11,
   "id": "7f332af7",
   "metadata": {},
   "outputs": [
    {
     "name": "stdout",
     "output_type": "stream",
     "text": [
      "Read training set fingerprint files\n",
      "Read training set fingerprint files\n",
      "Calcuating properties...\n",
      "Calcuating properties...\n"
     ]
    }
   ],
   "source": [
    "actives = read_cmpds_fp('actives_CDK1_cmpds_fp.csv')\n",
    "inactives = read_cmpds_fp('inactives_CDK1_cmpds_fp.csv')\n",
    "actives_properties = get_properties(actives, 'canonical_smiles')\n",
    "inactives_properties = get_properties(inactives, 'canonical_smiles')"
   ]
  },
  {
   "cell_type": "code",
   "execution_count": 46,
   "id": "071de009",
   "metadata": {},
   "outputs": [
    {
     "name": "stdout",
     "output_type": "stream",
     "text": [
      "Plotting for MLP_prediction_score\n"
     ]
    },
    {
     "data": {
      "text/plain": [
       "<Figure size 432x288 with 0 Axes>"
      ]
     },
     "metadata": {},
     "output_type": "display_data"
    }
   ],
   "source": [
    "VS_score_distribution(result, 'MLP_prediction_score','MLP_1')"
   ]
  },
  {
   "cell_type": "code",
   "execution_count": 216,
   "id": "62b2992e",
   "metadata": {},
   "outputs": [
    {
     "data": {
      "image/png": "[encoded data removed]",
      "text/plain": [
       "<Figure size 432x288 with 1 Axes>"
      ]
     },
     "metadata": {
      "needs_background": "light"
     },
     "output_type": "display_data"
    }
   ],
   "source": [
    "property_distribution(result_properties, actives_properties, inactives_properties, 'QED')"
   ]
  },
  {
   "cell_type": "code",
   "execution_count": 227,
   "id": "3871c735",
   "metadata": {},
   "outputs": [
    {
     "name": "stdout",
     "output_type": "stream",
     "text": [
      "Done. Properties calculated and compared. Calculated properties are saved to the disk\n"
     ]
    }
   ],
   "source": [
    "write_out(result_properties,'CDK1_50K_VS_properties')"
   ]
  },
  {
   "cell_type": "code",
   "execution_count": null,
   "id": "54486e10",
   "metadata": {},
   "outputs": [],
   "source": []
  }
 ],
 "metadata": {
  "kernelspec": {
   "display_name": "Python 3",
   "language": "python",
   "name": "python3"
  },
  "language_info": {
   "codemirror_mode": {
    "name": "ipython",
    "version": 3
   },
   "file_extension": ".py",
   "mimetype": "text/x-python",
   "name": "python",
   "nbconvert_exporter": "python",
   "pygments_lexer": "ipython3",
   "version": "3.6.13"
  }
 },
 "nbformat": 4,
 "nbformat_minor": 5
}
