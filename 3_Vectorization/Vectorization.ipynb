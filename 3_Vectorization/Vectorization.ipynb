{
 "cells": [
  {
   "cell_type": "code",
   "execution_count": null,
   "id": "2ec23853",
   "metadata": {},
   "outputs": [],
   "source": [
    "print('Module 3: Fingerprint calculation')"
   ]
  },
  {
   "cell_type": "code",
   "execution_count": 59,
   "id": "a6121e1e",
   "metadata": {},
   "outputs": [],
   "source": [
    "import sys\n",
    "from rdkit import Chem\n",
    "from rdkit import DataStructs\n",
    "from rdkit.Chem import AllChem\n",
    "from rdkit.Chem import MACCSkeys\n",
    "from rdkit.Chem.AtomPairs import Pairs\n",
    "from rdkit.Chem.AtomPairs import Torsions\n",
    "\n",
    "import numpy as np\n",
    "import pandas as pd\n",
    "np.set_printoptions(threshold=sys.maxsize)\n",
    "\n",
    "import argparse"
   ]
  },
  {
   "cell_type": "markdown",
   "id": "09699fc7",
   "metadata": {},
   "source": [
    "# Parse input"
   ]
  },
  {
   "cell_type": "code",
   "execution_count": null,
   "id": "72911f01",
   "metadata": {},
   "outputs": [],
   "source": [
    "parser = argparse.ArgumentParser()\n",
    "parser.add_argument('-i','--input', help = \"The compound list for FP calculation. Or simply the output file from Module 2\", required=True)\n",
    "parser.add_argument('-a','--active_inactive', help = \"Optional. Select from active and inactive. Is the input file for active or inactive molecules? Default=blank\", required=False)\n",
    "parser.add_argument('-t','--fp_type', help = \"Optional. Select from Morgan, AtomPair, Topological, and MACCS. Default=Morgan\", required=False)\n",
    "parser.add_argument('-n','--number_of_bits', help = \"Optional. The number of bits for Morgan, AtomPair and Topological FPs. Default=1024\", required=False)\n",
    "parser.add_argument('-f','--file_name', help = \"A name to save out files...\", required=True)\n",
    "args = parser.parse_args()"
   ]
  },
  {
   "cell_type": "markdown",
   "id": "0e8da521",
   "metadata": {},
   "source": [
    "# Make functions"
   ]
  },
  {
   "cell_type": "code",
   "execution_count": 166,
   "id": "bc3b4f88",
   "metadata": {},
   "outputs": [],
   "source": [
    "def read_cmpds(name):\n",
    "    print(\"Read input compounds file\")\n",
    "    df=pd.read_csv(name)\n",
    "    original=df.shape[0]\n",
    "    df['canonical_smiles'].replace('', np.nan, inplace=True)\n",
    "    df.dropna(subset=['canonical_smiles'], inplace=True)\n",
    "    recognized=df.shape[0]\n",
    "    diff=original-recognized\n",
    "    print(str(recognized) + ' compounds recognized. ' + str(diff) + ' unrecognized SMILES are dropped.')\n",
    "    df.reset_index(drop=True, inplace=True)\n",
    "    df=df['canonical_smiles']\n",
    "    return df"
   ]
  },
  {
   "cell_type": "code",
   "execution_count": 84,
   "id": "3d882b46",
   "metadata": {},
   "outputs": [],
   "source": [
    "def get_morganfp(df,bits):\n",
    "    print(\"Calcuating Morgan FP...\")\n",
    "    bit_fp=[]\n",
    "    for i in df:\n",
    "        m = Chem.MolFromSmiles(i)\n",
    "        n = AllChem.GetMorganFingerprintAsBitVect(m,2,bits)\n",
    "        fp=np.zeros((1,))\n",
    "        DataStructs.ConvertToNumpyArray(n, fp)\n",
    "        bit_fp.append(fp)\n",
    "\n",
    "    cmpd_fp=pd.concat([pd.DataFrame(df),pd.DataFrame(bit_fp).astype(int)],axis=1)\n",
    "    return cmpd_fp"
   ]
  },
  {
   "cell_type": "code",
   "execution_count": 85,
   "id": "6ca5fdfb",
   "metadata": {},
   "outputs": [],
   "source": [
    "def get_AtomPairfp(df,bits):\n",
    "    print(\"Calcuating Atom Pair FP...\")\n",
    "    bit_fp=[]\n",
    "    for i in df:\n",
    "        m = Chem.MolFromSmiles(i)\n",
    "        n = Pairs.GetHashedAtomPairFingerprint(m,bits)\n",
    "        fp=np.zeros((1,))\n",
    "        DataStructs.ConvertToNumpyArray(n, fp)\n",
    "        bit_fp.append(fp)\n",
    "\n",
    "    cmpd_fp=pd.concat([pd.DataFrame(df),pd.DataFrame(bit_fp).astype(int)],axis=1)\n",
    "    return cmpd_fp"
   ]
  },
  {
   "cell_type": "code",
   "execution_count": 86,
   "id": "5b878cdd",
   "metadata": {},
   "outputs": [],
   "source": [
    "def get_TopologicalTorsionfp(df,bits):\n",
    "    print(\"Calcuating Topological FP...\")    \n",
    "    bit_fp=[]\n",
    "    for i in df:\n",
    "        m = Chem.MolFromSmiles(i)\n",
    "        n = Torsions.GetHashedTopologicalTorsionFingerprint(m,bits)\n",
    "        fp = np.zeros((1,))\n",
    "        DataStructs.ConvertToNumpyArray(n, fp)\n",
    "        bit_fp.append(fp)\n",
    "\n",
    "    cmpd_fp=pd.concat([pd.DataFrame(df),pd.DataFrame(bit_fp).astype(int)],axis=1)\n",
    "    return cmpd_fp"
   ]
  },
  {
   "cell_type": "code",
   "execution_count": 87,
   "id": "aeb3222f",
   "metadata": {},
   "outputs": [],
   "source": [
    "def get_MACCS(df):\n",
    "    print(\"Calcuating MACCS FP...\")    \n",
    "    bit_fp=[]\n",
    "    for i in df:\n",
    "        m = Chem.MolFromSmiles(i)\n",
    "        n = MACCSkeys.GenMACCSKeys(m)\n",
    "        fp = np.zeros((1,))\n",
    "        DataStructs.ConvertToNumpyArray(n, fp)\n",
    "        bit_fp.append(fp)\n",
    "\n",
    "    cmpd_fp=pd.concat([pd.DataFrame(df),pd.DataFrame(bit_fp).astype(int)],axis=1)\n",
    "    return cmpd_fp"
   ]
  },
  {
   "cell_type": "code",
   "execution_count": 88,
   "id": "c8d17ea0",
   "metadata": {},
   "outputs": [],
   "source": [
    "def label_active(cmpd_and_fp):\n",
    "    print(\"Compounds are labeled as active\")\n",
    "    label=[]\n",
    "    count=0\n",
    "    while count < cmpd_and_fp.shape[0]:\n",
    "        label.append(int(1))\n",
    "        count+=1\n",
    "        \n",
    "    cmpd_and_fp['label']=label    \n",
    "    return cmpd_and_fp"
   ]
  },
  {
   "cell_type": "code",
   "execution_count": 89,
   "id": "de8e4c99",
   "metadata": {},
   "outputs": [],
   "source": [
    "def label_inactive(cmpd_and_fp):\n",
    "    print(\"Compounds are labeled as inactive\")\n",
    "    label=[]\n",
    "    count=0\n",
    "    while count < cmpd_and_fp.shape[0]:\n",
    "        label.append(int(0))\n",
    "        count+=1\n",
    "        \n",
    "    cmpd_and_fp['label']=label    \n",
    "    return cmpd_and_fp"
   ]
  },
  {
   "cell_type": "code",
   "execution_count": 90,
   "id": "2c3a6514",
   "metadata": {},
   "outputs": [],
   "source": [
    "def write_out(table,name):\n",
    "    file_name=str(name)\n",
    "    table.to_csv(file_name+'.csv',index=False)\n",
    "    print (\"Calculation finished. Files saved to the disk.\")\n",
    "    return"
   ]
  },
  {
   "cell_type": "markdown",
   "id": "503f573d",
   "metadata": {},
   "source": [
    "# Use functions"
   ]
  },
  {
   "cell_type": "code",
   "execution_count": null,
   "id": "e38e33cf",
   "metadata": {},
   "outputs": [],
   "source": [
    "df=read_cmpds(args.input)"
   ]
  },
  {
   "cell_type": "code",
   "execution_count": null,
   "id": "56e2987b",
   "metadata": {},
   "outputs": [],
   "source": [
    "if args.number_of_bits:\n",
    "    bits = int(args.number_of_bits)\n",
    "else:\n",
    "    bits = 1024"
   ]
  },
  {
   "cell_type": "code",
   "execution_count": null,
   "id": "0f3c2708",
   "metadata": {},
   "outputs": [],
   "source": [
    "if args.fp_type == 'Morgan':\n",
    "    cmpd_fp = get_morganfp(df,bits)\n",
    "elif args.fp_type == 'AtomPair':\n",
    "    cmpd_fp = get_AtomPairfp(df,bits)\n",
    "elif args.fp_type == 'Topological':\n",
    "    cmpd_fp = get_TopologicalTorsionfp(df,bits)\n",
    "elif args.fp_type == 'MACCS':\n",
    "    cmpd_fp = get_MACCS(df)\n",
    "else:\n",
    "    cmpd_fp = get_morganfp(df,bits)"
   ]
  },
  {
   "cell_type": "code",
   "execution_count": null,
   "id": "d852775c",
   "metadata": {},
   "outputs": [],
   "source": [
    "if args.active_inactive == \"active\":\n",
    "    cmpd_and_fp = label_active(cmpd_fp)\n",
    "elif args.active_inactive == \"inactive\":\n",
    "    cmpd_and_fp = label_inactive(cmpd_fp)\n",
    "else:\n",
    "    cmpd_and_fp = cmpd_fp"
   ]
  },
  {
   "cell_type": "code",
   "execution_count": null,
   "id": "8450cbb3",
   "metadata": {},
   "outputs": [],
   "source": [
    "write_out(cmpd_and_fp,args.file_name)"
   ]
  },
  {
   "cell_type": "markdown",
   "id": "6182a2eb",
   "metadata": {},
   "source": [
    "# Example"
   ]
  },
  {
   "cell_type": "code",
   "execution_count": 167,
   "id": "06562a02",
   "metadata": {},
   "outputs": [
    {
     "name": "stdout",
     "output_type": "stream",
     "text": [
      "Read input compounds file\n",
      "2566 compounds recognized. 2 unrecognized SMILES are dropped.\n"
     ]
    }
   ],
   "source": [
    "df=read_cmpds('inactives_CDK1_cmpd_collection.csv')"
   ]
  },
  {
   "cell_type": "code",
   "execution_count": 168,
   "id": "1f6819a4",
   "metadata": {},
   "outputs": [
    {
     "name": "stdout",
     "output_type": "stream",
     "text": [
      "Calcuating Morgan FP...\n",
      "Compounds are labeled as active\n",
      "Calculation finished. Files saved to the disk.\n"
     ]
    }
   ],
   "source": [
    "bits = 1024\n",
    "cmpd_fp = get_morganfp(df,bits)\n",
    "cmpd_and_fp = label_active(cmpd_fp)\n",
    "write_out(cmpd_and_fp,'inactives_CDK1_cmpds_fp')"
   ]
  },
  {
   "cell_type": "code",
   "execution_count": null,
   "id": "972f7c00",
   "metadata": {},
   "outputs": [],
   "source": []
  },
  {
   "cell_type": "code",
   "execution_count": 176,
   "id": "181d0bb8",
   "metadata": {},
   "outputs": [],
   "source": [
    "type_fp='AtomPair'"
   ]
  },
  {
   "cell_type": "code",
   "execution_count": 177,
   "id": "3adc8c57",
   "metadata": {},
   "outputs": [
    {
     "name": "stdout",
     "output_type": "stream",
     "text": [
      "Calcuating Atom Pair FP...\n"
     ]
    }
   ],
   "source": [
    "if type_fp == 'Morgan':\n",
    "    cmpd_fp = get_morganfp(df,bits)\n",
    "elif type_fp == 'AtomPair':\n",
    "    cmpd_fp = get_AtomPairfp(df,bits)\n",
    "elif type_fp == 'Topological':\n",
    "    cmpd_fp = get_TopologicalTorsionfp(df,bits)\n",
    "elif type_fp == 'MACCS':\n",
    "    cmpd_fp = get_MACCS(df)\n",
    "else:\n",
    "    cmpd_fp = get_morganfp(df,bits)"
   ]
  }
 ],
 "metadata": {
  "kernelspec": {
   "display_name": "Python 3",
   "language": "python",
   "name": "python3"
  },
  "language_info": {
   "codemirror_mode": {
    "name": "ipython",
    "version": 3
   },
   "file_extension": ".py",
   "mimetype": "text/x-python",
   "name": "python",
   "nbconvert_exporter": "python",
   "pygments_lexer": "ipython3",
   "version": "3.6.13"
  }
 },
 "nbformat": 4,
 "nbformat_minor": 5
}
