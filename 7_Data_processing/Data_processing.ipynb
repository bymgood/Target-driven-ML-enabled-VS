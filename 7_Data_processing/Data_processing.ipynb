{
 "cells": [
  {
   "cell_type": "code",
   "execution_count": 1,
   "id": "4f539424",
   "metadata": {},
   "outputs": [
    {
     "name": "stdout",
     "output_type": "stream",
     "text": [
      "Module 7: Data processing\n"
     ]
    }
   ],
   "source": [
    "print('Module 7: Data processing')"
   ]
  },
  {
   "cell_type": "code",
   "execution_count": 2,
   "id": "4b6f1c65",
   "metadata": {},
   "outputs": [],
   "source": [
    "import sys\n",
    "import numpy as np\n",
    "import pandas as pd\n",
    "np.set_printoptions(threshold=sys.maxsize)\n",
    "import argparse"
   ]
  },
  {
   "cell_type": "markdown",
   "id": "94bc8596",
   "metadata": {},
   "source": [
    "# Parse input"
   ]
  },
  {
   "cell_type": "code",
   "execution_count": null,
   "id": "98615d79",
   "metadata": {},
   "outputs": [],
   "source": [
    "parser = argparse.ArgumentParser()\n",
    "parser.add_argument('-r','--result_rf', help = 'The outcome rf file from the module 6', required=True)\n",
    "parser.add_argument('-m','--result_mlp', help = 'The outcome mlp file from the module 6', required=True)\n",
    "parser.add_argument('-f','--file_name', help='The output file name', required=True)\n",
    "args = parser.parse_args()"
   ]
  },
  {
   "cell_type": "markdown",
   "id": "78e9120a",
   "metadata": {},
   "source": [
    "# Make functions"
   ]
  },
  {
   "cell_type": "code",
   "execution_count": 3,
   "id": "d96203eb",
   "metadata": {},
   "outputs": [],
   "source": [
    "def read_screen_result(name):\n",
    "    print ('Read '+ name +'...')\n",
    "    outcome = pd.read_csv(name, header=0)\n",
    "    return outcome"
   ]
  },
  {
   "cell_type": "code",
   "execution_count": 4,
   "id": "56fcd27f",
   "metadata": {},
   "outputs": [],
   "source": [
    "def add_rank(outcome,model_type):\n",
    "    i=1\n",
    "    rank=[]\n",
    "    while i < len(outcome)+1:\n",
    "        rank.append(i)\n",
    "        i+=1\n",
    "    outcome[model_type+'_rank']=rank\n",
    "    return outcome"
   ]
  },
  {
   "cell_type": "code",
   "execution_count": 5,
   "id": "e4310c8d",
   "metadata": {},
   "outputs": [],
   "source": [
    "def merge_two(mlp,rf):\n",
    "    print ('Merge two files...')\n",
    "    RF_score=[]\n",
    "    RF_rank=[]\n",
    "    mlp = mlp[['comp_id','MLP_prediction_score','mlp_rank']]\n",
    "    combined = rf.merge(mlp,on='comp_id')\n",
    "    RF_score = combined['RF_prediction_score']\n",
    "    RF_rank = combined['rf_rank']\n",
    "    combined = combined.drop('RF_prediction_score', axis=1)\n",
    "    combined['RF_prediction_score'] = RF_score\n",
    "    combined = combined.drop('rf_rank', axis=1)\n",
    "    combined['rf_rank'] = RF_rank\n",
    "    return combined"
   ]
  },
  {
   "cell_type": "code",
   "execution_count": 6,
   "id": "a051644d",
   "metadata": {},
   "outputs": [],
   "source": [
    "def normalize_scores(combined):\n",
    "    norm_rf = (combined['RF_prediction_score']-combined['RF_prediction_score'].min())/(combined['RF_prediction_score'].max()-combined['RF_prediction_score'].min())\n",
    "    norm_mlp = (combined['MLP_prediction_score']-combined['MLP_prediction_score'].min())/(combined['MLP_prediction_score'].max()-combined['MLP_prediction_score'].min())\n",
    "    combined['norm_mlp_score'] = norm_mlp\n",
    "    combined['norm_RF_score'] = norm_rf\n",
    "    return combined"
   ]
  },
  {
   "cell_type": "code",
   "execution_count": 7,
   "id": "4c062038",
   "metadata": {},
   "outputs": [],
   "source": [
    "def ensemble_score(normalized_combined):\n",
    "    print ('Add ensemble ranking as well...')\n",
    "    i=0\n",
    "    ensemble=[]\n",
    "    while i < len(normalized_combined):\n",
    "        ensemble.append((normalized_combined.iloc[i,:]['rf_rank']+normalized_combined.iloc[i,:]['mlp_rank'])/2)\n",
    "        i+=1\n",
    "    normalized_combined['ensemble_rank']=ensemble\n",
    "    normalized_combined = normalized_combined.sort_values(by=['ensemble_rank'],ascending=True)\n",
    "    return normalized_combined"
   ]
  },
  {
   "cell_type": "code",
   "execution_count": 8,
   "id": "fef783fc",
   "metadata": {},
   "outputs": [],
   "source": [
    "def top_1_percent_combined(normalized_combined_ensemble):\n",
    "    print ('Select non-duplicated top 1% VS hits from MLP, RF, and ensemble...')\n",
    "    length = int(len(normalized_combined_ensemble)/100)\n",
    "    normalized_combined_ensemble_1 = normalized_combined_ensemble.iloc[:length]\n",
    "    mlp_1 = normalized_combined_ensemble.sort_values(by=['mlp_rank'],ascending=True).iloc[:length]\n",
    "    rf_1 = normalized_combined_ensemble.sort_values(by=['rf_rank'],ascending=True).iloc[:length]\n",
    "    \n",
    "    frames= [normalized_combined_ensemble_1, mlp_1, rf_1]\n",
    "    percent_1_combined = pd.concat(frames)\n",
    "    percent_1_combined = percent_1_combined.drop_duplicates(subset=['comp_id'])\n",
    "    \n",
    "    return percent_1_combined"
   ]
  },
  {
   "cell_type": "code",
   "execution_count": 9,
   "id": "b879afd8",
   "metadata": {},
   "outputs": [],
   "source": [
    "def write_out(outcome,name):\n",
    "    file_name=str(name)\n",
    "    outcome.to_csv(file_name+'_top_1_percent_VS_hits'+'.csv',index=False)\n",
    "    print (\"Done. Top selected compounds are written to the disk\")\n",
    "    return"
   ]
  },
  {
   "cell_type": "code",
   "execution_count": 18,
   "id": "4f0d7bde",
   "metadata": {},
   "outputs": [],
   "source": [
    "def write_out_all(outcome,name):\n",
    "    file_name=str(name)\n",
    "    outcome.to_csv(file_name+'_VS_all'+'.csv',index=False)\n",
    "    print (\"Done. All screened compounds are written to the disk\")\n",
    "    return"
   ]
  },
  {
   "cell_type": "markdown",
   "id": "4181fb65",
   "metadata": {},
   "source": [
    "# Use functions"
   ]
  },
  {
   "cell_type": "code",
   "execution_count": null,
   "id": "e859d820",
   "metadata": {},
   "outputs": [],
   "source": [
    "mlp=read_screen_result(args.result_mlp)\n",
    "rf=read_screen_result(args.result_rf)"
   ]
  },
  {
   "cell_type": "code",
   "execution_count": null,
   "id": "74f8af17",
   "metadata": {},
   "outputs": [],
   "source": [
    "mlp = add_rank(mlp,'mlp')\n",
    "rf = add_rank(rf,'rf')\n",
    "combined=merge_two(mlp,rf)\n",
    "combined_ensemble=ensemble_score(combined)\n",
    "outcome = top_1_percent_combined(combined_ensemble)"
   ]
  },
  {
   "cell_type": "code",
   "execution_count": null,
   "id": "f7c2ae3e",
   "metadata": {},
   "outputs": [],
   "source": [
    "write_out(outcome,args.file_name)"
   ]
  },
  {
   "cell_type": "code",
   "execution_count": null,
   "id": "bc16aca4",
   "metadata": {},
   "outputs": [],
   "source": [
    "write_out_all(combined_ensemble,args.file_name)"
   ]
  },
  {
   "cell_type": "markdown",
   "id": "844f0f08",
   "metadata": {},
   "source": [
    "# Example"
   ]
  },
  {
   "cell_type": "code",
   "execution_count": 10,
   "id": "06380086",
   "metadata": {},
   "outputs": [
    {
     "name": "stdout",
     "output_type": "stream",
     "text": [
      "Read CDK1_50K_VS_MLP.csv_properties_calculated.csv...\n",
      "Read CDK1_50K_VS.csv_properties_calculated.csv...\n"
     ]
    }
   ],
   "source": [
    "mlp=read_screen_result('CDK1_50K_VS_MLP.csv_properties_calculated.csv')\n",
    "rf=read_screen_result('CDK1_50K_VS.csv_properties_calculated.csv')"
   ]
  },
  {
   "cell_type": "code",
   "execution_count": 11,
   "id": "1435efa9",
   "metadata": {},
   "outputs": [],
   "source": [
    "mlp = add_rank(mlp,'mlp')\n",
    "rf = add_rank(rf,'rf')"
   ]
  },
  {
   "cell_type": "code",
   "execution_count": 12,
   "id": "b868d944",
   "metadata": {},
   "outputs": [
    {
     "name": "stdout",
     "output_type": "stream",
     "text": [
      "Merge two files...\n"
     ]
    }
   ],
   "source": [
    "combined=merge_two(mlp,rf)\n"
   ]
  },
  {
   "cell_type": "code",
   "execution_count": 14,
   "id": "9646628c",
   "metadata": {},
   "outputs": [
    {
     "name": "stdout",
     "output_type": "stream",
     "text": [
      "Add ensemble ranking as well...\n"
     ]
    }
   ],
   "source": [
    "combined_ensemble=ensemble_score(combined)"
   ]
  },
  {
   "cell_type": "code",
   "execution_count": 15,
   "id": "da91cf6b",
   "metadata": {},
   "outputs": [
    {
     "name": "stdout",
     "output_type": "stream",
     "text": [
      "Select non-duplicated top 1% VS hits from MLP, RF, and ensemble...\n"
     ]
    }
   ],
   "source": [
    "outcome = top_1_percent_combined(combined_ensemble)"
   ]
  },
  {
   "cell_type": "code",
   "execution_count": 16,
   "id": "1731c224",
   "metadata": {},
   "outputs": [
    {
     "name": "stdout",
     "output_type": "stream",
     "text": [
      "Done. Top selected compounds are written to the disk\n"
     ]
    }
   ],
   "source": [
    "write_out(outcome,'CDK1_top_1_VS_hits')"
   ]
  },
  {
   "cell_type": "code",
   "execution_count": 17,
   "id": "d9454609",
   "metadata": {},
   "outputs": [
    {
     "name": "stdout",
     "output_type": "stream",
     "text": [
      "Done. Top selected compounds are written to the disk\n"
     ]
    }
   ],
   "source": [
    "write_out(combined_ensemble,'CDK1_VS_all')"
   ]
  },
  {
   "cell_type": "code",
   "execution_count": 19,
   "id": "54674c08",
   "metadata": {},
   "outputs": [
    {
     "name": "stdout",
     "output_type": "stream",
     "text": [
      "Done. All screened compounds are written to the disk\n"
     ]
    }
   ],
   "source": [
    "write_out_all(combined_ensemble,'CDK1_VS_all')"
   ]
  },
  {
   "cell_type": "code",
   "execution_count": null,
   "id": "e8f07116",
   "metadata": {},
   "outputs": [],
   "source": []
  }
 ],
 "metadata": {
  "kernelspec": {
   "display_name": "Python 3",
   "language": "python",
   "name": "python3"
  },
  "language_info": {
   "codemirror_mode": {
    "name": "ipython",
    "version": 3
   },
   "file_extension": ".py",
   "mimetype": "text/x-python",
   "name": "python",
   "nbconvert_exporter": "python",
   "pygments_lexer": "ipython3",
   "version": "3.6.13"
  }
 },
 "nbformat": 4,
 "nbformat_minor": 5
}
